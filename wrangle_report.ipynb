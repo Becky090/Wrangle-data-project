{
 "cells": [
  {
   "cell_type": "markdown",
   "id": "be1d3cdf",
   "metadata": {},
   "source": [
    "### Overview of WeRateDogs data wrangling.\n",
    "\n",
    "In other to analyze the twitter activities of WeRateDogs account, 3 datasets were used which include:\n",
    "* Twitter archive of weRateDogs\n",
    "* An image prediction Dataset provided in the udacity classroom\n",
    "* And the tweet counts downloaded from the API of twitter.\n",
    "\n",
    "These datasets were wrangled and used for this analysis.\n",
    "After gathering this datasets, each of it were accessed and the following issues were identified:\n",
    "#### Quality\n",
    "##### Archive Dataset\n",
    "Missing values in 5 columns: (in_reply_to_status_id','in_reply_to_user_id','retweeted_status_id'retweeted_status_user_id','retweeted_status_timestamp').\n",
    "Change of data types in the tweet_id and timestamp column.\n",
    "Change of Timestamp column to just date.\n",
    "Rating denominator and numerator columns with suspicious values.\n",
    "Treating invalid names in the name column.\n",
    "\n",
    "##### Image Prediction Dataset\n",
    "Some Image Prediction in the P1 not a dog type.\n",
    "change of datatypes in tweet_id column.\n",
    "\n",
    "#### Tweet Counts Dataset\n",
    "ID column needs to be renamed.\n",
    "Change datatypes in ID column.\n",
    "\n",
    "#### Tidiness\n",
    "Rating columns (rate_denominator and rate_numerator) should be in one column.\n",
    "Dog stages in different columns should be treated.\n",
    "Accessing Archive Data.\n",
    "\n",
    "After accessing these datasets, cleaning was done which involved the changing of datatypes in the 3 datasets, treating missing values, renaming of columns for easy assessiblity and tidying up the datasets to maintain great structure. After cleaning, which involved combining the datasets to get one master dataset, it was analyzed and used to gain knowledge and insights.\n",
    "All these were carried out to help me make good decisions and analysis using the datasets provided."
   ]
  },
  {
   "cell_type": "code",
   "execution_count": null,
   "id": "69c12467",
   "metadata": {},
   "outputs": [],
   "source": []
  }
 ],
 "metadata": {
  "kernelspec": {
   "display_name": "Python 3 (ipykernel)",
   "language": "python",
   "name": "python3"
  },
  "language_info": {
   "codemirror_mode": {
    "name": "ipython",
    "version": 3
   },
   "file_extension": ".py",
   "mimetype": "text/x-python",
   "name": "python",
   "nbconvert_exporter": "python",
   "pygments_lexer": "ipython3",
   "version": "3.9.7"
  }
 },
 "nbformat": 4,
 "nbformat_minor": 5
}
